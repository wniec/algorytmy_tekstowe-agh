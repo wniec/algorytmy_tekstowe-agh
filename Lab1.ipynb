{
 "cells": [
  {
   "cell_type": "code",
   "execution_count": 1,
   "id": "8398429c",
   "metadata": {},
   "outputs": [],
   "source": [
    "import datetime\n",
    "import codecs\n",
    "import random\n",
    "import matplotlib.pyplot as plt\n",
    "import numpy as np\n",
    "import pandas as pd\n",
    "%matplotlib inline"
   ]
  },
  {
   "cell_type": "code",
   "execution_count": 2,
   "id": "78b96e7d",
   "metadata": {},
   "outputs": [],
   "source": [
    "pattern=\"ab\"\n",
    "text=\"ababaaabab\""
   ]
  },
  {
   "cell_type": "markdown",
   "id": "f85db05f",
   "metadata": {},
   "source": [
    "# zadanie 1 Implementacja algorytmów"
   ]
  },
  {
   "cell_type": "code",
   "execution_count": 3,
   "id": "3c833f28",
   "metadata": {},
   "outputs": [],
   "source": [
    "def naive(text,pattern):\n",
    "    found=[]\n",
    "    for i in range(len(text)):\n",
    "        for j in range(min(len(text)-i,len(pattern))):\n",
    "            if text[i+j]!=pattern[j]:\n",
    "                break\n",
    "            if j==len(pattern)-1:\n",
    "                found.append(i)\n",
    "    return found"
   ]
  },
  {
   "cell_type": "code",
   "execution_count": 4,
   "id": "0b89bde9",
   "metadata": {},
   "outputs": [],
   "source": [
    "def prefix_suffix(pattern):\n",
    "    length=0\n",
    "    n=len(pattern)-1\n",
    "    for j in range(n):\n",
    "        if pattern[n-j:n+1]==pattern[:j+1]:\n",
    "            length=j+1\n",
    "    return length"
   ]
  },
  {
   "cell_type": "code",
   "execution_count": 5,
   "id": "de0c8046",
   "metadata": {},
   "outputs": [],
   "source": [
    "def prefix_suffix_arr(pattern):\n",
    "    steps=[0 for i in pattern]\n",
    "    for i in range(len(pattern)):\n",
    "        word=pattern[:i+1]\n",
    "        steps[i]=prefix_suffix(word)\n",
    "    return steps"
   ]
  },
  {
   "cell_type": "code",
   "execution_count": 6,
   "id": "9a902a79",
   "metadata": {},
   "outputs": [],
   "source": [
    "def kmp(text,pattern):\n",
    "    found=[]\n",
    "    j=0\n",
    "    steps=prefix_suffix_arr(pattern)\n",
    "    for i in range(len(text)):\n",
    "        while j<min(len(text)-i,len(pattern)):\n",
    "            if text[i+j]!=pattern[j]:\n",
    "                j=steps[j]\n",
    "                break\n",
    "            if j==len(pattern)-1:\n",
    "                found.append(i)\n",
    "                j=0\n",
    "                break\n",
    "            else:\n",
    "                j+=1\n",
    "    return found"
   ]
  },
  {
   "cell_type": "code",
   "execution_count": 7,
   "id": "cc0c5bf3",
   "metadata": {},
   "outputs": [],
   "source": [
    "def matrix_construction(pattern,alphabet):\n",
    "    states=[[0 for j in range(len(alphabet))]for i in range(len(pattern)+1)]\n",
    "    for s in range (len(pattern)):\n",
    "        for a in range(len(alphabet)):\n",
    "            if alphabet[a]==pattern[s]:\n",
    "                states[s][a]=(s+1)\n",
    "            else:\n",
    "                current=pattern[:s]+alphabet[a]\n",
    "                length=prefix_suffix(current)\n",
    "                states[s][a]=length\n",
    "    for a in range(len(alphabet)):\n",
    "        current=pattern+alphabet[a]\n",
    "        length=prefix_suffix(current)\n",
    "        states[-1][a]=length\n",
    "    return states"
   ]
  },
  {
   "cell_type": "code",
   "execution_count": 8,
   "id": "a7549656",
   "metadata": {},
   "outputs": [],
   "source": [
    "def automaton(text,pattern):\n",
    "    alphabet=list(set([p for p in pattern]))\n",
    "    alphabet_dict={}\n",
    "    for i in range(len(alphabet)):\n",
    "        alphabet_dict[alphabet[i]]=i\n",
    "    state=0\n",
    "    found=[]\n",
    "    matrix=matrix_construction(pattern,alphabet)\n",
    "    for i,t in enumerate(text):\n",
    "        if t in alphabet_dict:\n",
    "            index=alphabet_dict[t]\n",
    "            state=matrix[state][index]\n",
    "            if state==len(pattern):\n",
    "                found.append(i-state+1)\n",
    "        else:\n",
    "            state = 0\n",
    "    return found"
   ]
  },
  {
   "cell_type": "markdown",
   "id": "b5a1a9df",
   "metadata": {},
   "source": [
    "# zadanie 2 Implementacja testów"
   ]
  },
  {
   "cell_type": "code",
   "execution_count": 9,
   "id": "6288aebe",
   "metadata": {},
   "outputs": [],
   "source": [
    "def naive_test(text,pattern):\n",
    "    start=datetime.datetime.now()\n",
    "    found=[]\n",
    "    for i in range(len(text)):\n",
    "        for j in range(min(len(text)-i,len(pattern))):\n",
    "            if text[i+j]!=pattern[j]:\n",
    "                break\n",
    "            if j==len(pattern)-1:\n",
    "                found.append(i)\n",
    "    return (datetime.datetime.now()-start).microseconds"
   ]
  },
  {
   "cell_type": "code",
   "execution_count": 10,
   "id": "2293bed1",
   "metadata": {},
   "outputs": [],
   "source": [
    "def kmp_test(text,pattern):\n",
    "    start=datetime.datetime.now()\n",
    "    found=[]\n",
    "    j=0\n",
    "    steps=prefix_suffix_arr(pattern)\n",
    "    preprocessing = datetime.datetime.now()-start\n",
    "    start=datetime.datetime.now()\n",
    "    for i in range(len(text)):\n",
    "        while j<min(len(text)-i,len(pattern)):\n",
    "            if text[i+j]!=pattern[j]:\n",
    "                j=steps[j]\n",
    "                break\n",
    "            if j==len(pattern)-1:\n",
    "                found.append(i)\n",
    "                j=0\n",
    "                break\n",
    "            else:\n",
    "                j+=1\n",
    "    return (preprocessing.microseconds,(datetime.datetime.now()-start).microseconds)"
   ]
  },
  {
   "cell_type": "code",
   "execution_count": 11,
   "id": "604d017b",
   "metadata": {},
   "outputs": [],
   "source": [
    "def automaton_test(text,pattern):\n",
    "    start=datetime.datetime.now()\n",
    "    alphabet=list(set([p for p in pattern]))\n",
    "    alphabet_dict={}\n",
    "    for i in range(len(alphabet)):\n",
    "        alphabet_dict[alphabet[i]]=i\n",
    "    state=0\n",
    "    found=[]\n",
    "    matrix=matrix_construction(pattern,alphabet)\n",
    "    preprocessing = datetime.datetime.now()-start\n",
    "    start=datetime.datetime.now()\n",
    "    for i,t in enumerate(text):\n",
    "        if t in alphabet_dict:\n",
    "            index=alphabet_dict[t]\n",
    "            state=matrix[state][index]\n",
    "            if state==len(pattern):\n",
    "                found.append(i-state+1)\n",
    "        else:\n",
    "            state = 0\n",
    "    return (preprocessing.microseconds,(datetime.datetime.now()-start).microseconds)"
   ]
  },
  {
   "cell_type": "code",
   "execution_count": 12,
   "id": "aa85a9e7",
   "metadata": {},
   "outputs": [
    {
     "name": "stdout",
     "output_type": "stream",
     "text": [
      "rozmiar danych: \t10000\t50000\t100000\t500000\t1000000\t\n",
      "czas preprocessingu: \n",
      "automat skończony: \t1999\t1996\t1995\t992\t997\t\n",
      "algorytm KMP: \t\t997\t0\t0\t0\t0\t\n",
      "czas działania algorytmu: \n",
      "automat skończony: \t993\t6978\t13962\t60798\t128656\t\n",
      "algorytm KMP: \t\t3990\t21943\t47911\t224405\t447802\t\n",
      "algorytm naiwny: \t5984\t29920\t61796\t301195\t590462\t"
     ]
    },
    {
     "data": {
      "image/png": "[encoded data removed]",
      "text/plain": [
       "<Figure size 432x288 with 2 Axes>"
      ]
     },
     "metadata": {
      "needs_background": "light"
     },
     "output_type": "display_data"
    }
   ],
   "source": [
    "alph=[chr(i) for i in range(32,64)]\n",
    "text_sizes=[10000,50000,100000,500000,1000000]\n",
    "test_texts=[[random.choice(alph) for i in range(j)]for j in text_sizes]\n",
    "fig, (ax1, ax2) = plt.subplots(1, 2)\n",
    "ax1.set_title('czas preprocessingu')\n",
    "ax2.set_title('czas działania algorytmów')\n",
    "ax1.set(xlabel='text size', ylabel='time[μs]')\n",
    "ax2.set(xlabel='text size', ylabel='time[μs]')\n",
    "k_pre,k_time,a_pre,a_time,n_time=[],[],[],[],[]\n",
    "for t in test_texts:\n",
    "    pattern = \"\".join(t[:25])\n",
    "    n2=naive_test(t,pattern)\n",
    "    k1,k2=kmp_test(t,pattern)\n",
    "    a1,a2=automaton_test(t,pattern)\n",
    "    n_time.append(n2)\n",
    "    a_time.append(a2)\n",
    "    k_time.append(k2)\n",
    "    a_pre.append(a1)\n",
    "    k_pre.append(k1)\n",
    "ax1.plot(text_sizes,k_pre,'green',label='KMP preprocessing')\n",
    "ax1.plot(text_sizes,a_pre,'blue',label='Automaton preprocessing')\n",
    "ax2.plot(text_sizes,n_time,'red',label='Naive time')\n",
    "ax2.plot(text_sizes,k_time,'green',label='KMP time')\n",
    "ax2.plot(text_sizes,a_time,'blue',label='Automaton time')\n",
    "ax1.legend()\n",
    "ax2.legend()\n",
    "print('rozmiar danych: ',end=\"\\t\")\n",
    "for s in text_sizes:\n",
    "    print(s,end=\"\\t\")\n",
    "print('\\nczas preprocessingu: ')\n",
    "print('automat skończony: ',end=\"\\t\")\n",
    "for a in a_pre:\n",
    "    print(a,end=\"\\t\")\n",
    "print('\\nalgorytm KMP: ',end=\"\\t\\t\")\n",
    "for k in k_pre:\n",
    "    print(k,end=\"\\t\")\n",
    "print('\\nczas działania algorytmu: ')\n",
    "print('automat skończony: ',end=\"\\t\")\n",
    "for a in a_time:\n",
    "    print(a,end=\"\\t\")\n",
    "print('\\nalgorytm KMP: ',end=\"\\t\\t\")\n",
    "for k in k_time:\n",
    "    print(k,end=\"\\t\")\n",
    "print('\\nalgorytm naiwny: ',end=\"\\t\")\n",
    "for n in n_time:\n",
    "    print(n,end=\"\\t\")"
   ]
  },
  {
   "cell_type": "markdown",
   "id": "513f266e",
   "metadata": {},
   "source": [
    "# zadanie 3"
   ]
  },
  {
   "cell_type": "code",
   "execution_count": 13,
   "id": "f52ec1b9",
   "metadata": {},
   "outputs": [
    {
     "name": "stdout",
     "output_type": "stream",
     "text": [
      "Dopasowanie wzorca pan:\n",
      "Automat skończony:\t 401\n",
      "Algorytm KMP:\t\t 401\n",
      "Algorytm naiwny:\t 401\n",
      "Dopasowanie wzorca pani:\n",
      "Automat skończony:\t 100\n",
      "Algorytm KMP:\t\t 100\n",
      "Algorytm naiwny:\t 100\n"
     ]
    }
   ],
   "source": [
    "with codecs.open('pan-tadeusz.txt', encoding='utf-8') as f:\n",
    "    content=f.read()\n",
    "print(\"Dopasowanie wzorca pan:\")\n",
    "print(\"Automat skończony:\\t\",len(automaton(content,\"pan\")))\n",
    "print(\"Algorytm KMP:\\t\\t\",len(kmp(content,\"pan\")))\n",
    "print(\"Algorytm naiwny:\\t\",len(naive(content,\"pan\")))\n",
    "print(\"Dopasowanie wzorca pani:\")\n",
    "print(\"Automat skończony:\\t\",len(automaton(content,\"pani\")))\n",
    "print(\"Algorytm KMP:\\t\\t\",len(kmp(content,\"pani\")))\n",
    "print(\"Algorytm naiwny:\\t\",len(naive(content,\"pani\")))"
   ]
  },
  {
   "cell_type": "markdown",
   "id": "46261baa",
   "metadata": {},
   "source": [
    "# zadanie 4"
   ]
  },
  {
   "cell_type": "code",
   "execution_count": 14,
   "id": "b3e5d2b5",
   "metadata": {},
   "outputs": [],
   "source": [
    "with codecs.open('pan-tadeusz.txt', encoding='utf-8') as f:\n",
    "    content=f.read()\n",
    "preprocessing=[]\n",
    "times=[]\n",
    "pattern = \"pan\"\n",
    "for i in range(10):\n",
    "    n2=naive_test(t,pattern)\n",
    "    k1,k2=kmp_test(t,pattern)\n",
    "    a1,a2=automaton_test(t,pattern)\n",
    "    times.append([n2,k2,a2])\n",
    "    preprocessing.append([k1,a1])"
   ]
  },
  {
   "cell_type": "code",
   "execution_count": 15,
   "id": "8b628a61",
   "metadata": {},
   "outputs": [],
   "source": [
    "times=np.array(times)\n",
    "prep=np.array(preprocessing)"
   ]
  },
  {
   "cell_type": "code",
   "execution_count": 16,
   "id": "1d10eac5",
   "metadata": {},
   "outputs": [
    {
     "name": "stdout",
     "output_type": "stream",
     "text": [
      "\n",
      "Algorytm naiwny:\n",
      "czas średni:  616451.7  μs\n",
      "czas minimalny:  603386  μs\n",
      "czas maksymalny:  640289  μs\n",
      "\n",
      "Algorytm KMP:\n",
      "czas średni:  463199.8  μs\n",
      "czas minimalny:  450840  μs\n",
      "czas maksymalny:  509636  μs\n",
      "średni czas preprocessingu:  616451.7  μs\n",
      "minimalny czas preprocessingu:  603386  μs\n",
      "maksymalny czas preprocessingu:  640289  μs\n",
      "\n",
      "Automat Skończony:\n",
      "czas średni:  69207.5  μs\n",
      "czas minimalny:  66776  μs\n",
      "czas maksymalny:  72807  μs\n",
      "średni czas preprocessingu:  463199.8  μs\n",
      "minimalny czas preprocessingu:  450840  μs\n",
      "maksymalny czas preprocessingu:  509636  μs\n"
     ]
    },
    {
     "data": {
      "text/plain": [
       "Text(0.5, 1.0, 'maksymalny')"
      ]
     },
     "execution_count": 16,
     "metadata": {},
     "output_type": "execute_result"
    },
    {
     "data": {
      "image/png": "[encoded data removed]",
      "text/plain": [
       "<Figure size 432x288 with 3 Axes>"
      ]
     },
     "metadata": {
      "needs_background": "light"
     },
     "output_type": "display_data"
    },
    {
     "data": {
      "image/png": "[encoded data removed]",
      "text/plain": [
       "<Figure size 432x288 with 3 Axes>"
      ]
     },
     "metadata": {
      "needs_background": "light"
     },
     "output_type": "display_data"
    }
   ],
   "source": [
    "avg_times=np.sum(times,axis = 0)/10\n",
    "min_times=np.min(times,axis = 0)\n",
    "max_times=np.max(times,axis = 0)\n",
    "avg_prep=np.sum(prep,axis = 0)/10\n",
    "min_prep=np.min(prep,axis = 0)\n",
    "max_prep=np.max(prep,axis = 0)\n",
    "algorithms = [\"\\nAlgorytm naiwny:\",\"\\nAlgorytm KMP:\",\"\\nAutomat Skończony:\"]\n",
    "plt_alg = [\"AN:\",\"AKMP:\",\"AS:\"]\n",
    "for i in range(3):\n",
    "    print(algorithms[i])\n",
    "    print(\"czas średni: \",avg_times[i],' μs')\n",
    "    print(\"czas minimalny: \",min_times[i],' μs')\n",
    "    print(\"czas maksymalny: \",max_times[i],' μs')\n",
    "    if i>0:\n",
    "        print(\"średni czas preprocessingu: \",avg_times[i-1],' μs')\n",
    "        print(\"minimalny czas preprocessingu: \",min_times[i-1],' μs')\n",
    "        print(\"maksymalny czas preprocessingu: \",max_times[i-1],' μs')\n",
    "fig, ax = plt.subplots(1,3)\n",
    "fig.suptitle('czas algorytmu [μs]', fontsize=16)\n",
    "ax[0].bar(plt_alg,avg_times)\n",
    "ax[1].bar(plt_alg,min_times)\n",
    "ax[2].bar(plt_alg,max_times)\n",
    "ax[0].set_title(\"średni\")\n",
    "ax[1].set_title(\"minimalny\")\n",
    "ax[2].set_title(\"maksymalny\")\n",
    "fig1, ax1 = plt.subplots(1,3)\n",
    "fig1.suptitle('czas preprocessingu [μs]', fontsize=16)\n",
    "ax1[0].bar(plt_alg[1:],avg_prep)\n",
    "ax1[1].bar(plt_alg[1:],min_prep)\n",
    "ax1[2].bar(plt_alg[1:],max_prep)\n",
    "ax1[0].set_title(\"średni\")\n",
    "ax1[1].set_title(\"minimalny\")\n",
    "ax1[2].set_title(\"maksymalny\")"
   ]
  },
  {
   "cell_type": "markdown",
   "id": "4bb59a5d",
   "metadata": {},
   "source": [
    "# zadanie 5"
   ]
  },
  {
   "cell_type": "code",
   "execution_count": 17,
   "id": "628cd023",
   "metadata": {
    "scrolled": true
   },
   "outputs": [
    {
     "name": "stdout",
     "output_type": "stream",
     "text": [
      "Czas działania algorytmu naiwnego:  218753\n",
      "Czas działania algorytmu KMP\t:  3029\n",
      "Czas działania automatu skończonego:  0\n"
     ]
    }
   ],
   "source": [
    "text=\"ab\"*1000\n",
    "pattern=\"ab\"*1000\n",
    "n=naive_test(text,pattern)\n",
    "k1,k=kmp_test(text,pattern)\n",
    "a1,a=automaton_test(text,pattern)\n",
    "print(\"Czas działania algorytmu naiwnego: \",n)\n",
    "print(\"Czas działania algorytmu KMP\\t: \",k)\n",
    "print(\"Czas działania automatu skończonego: \",a)"
   ]
  },
  {
   "cell_type": "markdown",
   "id": "74b33fba",
   "metadata": {},
   "source": [
    "# zadanie 6"
   ]
  },
  {
   "cell_type": "markdown",
   "id": "ac0c407c",
   "metadata": {},
   "source": [
    "Możemy zauważy, że spośród zaimplementowanych algorytmów najszybszy okazuje się skończony automat. Może się zdarzyć, że będzie ustępował on wprawdzie pod względem czasu preprocessingu algorytmowi KMP (w naszym wypadku akurat oba te czasy były na tyle małe, że python uznał je za 0), jednak dzięki temu całość wyszukiwania jest znacznie sprawniejsza. Algorytm KMP jest z kolei sprawniejszy od algorytmu naiwnego. Jednakże różnica ta niweluje się, wtedy, gdy wzorzec jest bardzo krótki (np. 2 znaki)."
   ]
  }
 ],
 "metadata": {
  "kernelspec": {
   "display_name": "Python 3 (ipykernel)",
   "language": "python",
   "name": "python3"
  },
  "language_info": {
   "codemirror_mode": {
    "name": "ipython",
    "version": 3
   },
   "file_extension": ".py",
   "mimetype": "text/x-python",
   "name": "python",
   "nbconvert_exporter": "python",
   "pygments_lexer": "ipython3",
   "version": "3.9.12"
  }
 },
 "nbformat": 4,
 "nbformat_minor": 5
}
