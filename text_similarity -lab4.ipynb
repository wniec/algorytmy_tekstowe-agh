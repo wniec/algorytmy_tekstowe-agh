{
 "cells": [
  {
   "cell_type": "code",
   "execution_count": 33,
   "metadata": {},
   "outputs": [],
   "source": [
    "import re\n",
    "import numpy as np\n",
    "import queue\n",
    "import string\n",
    "import sklearn\n",
    "import matplotlib.pyplot as plt\n",
    "%matplotlib inline\n",
    "from scipy.sparse import csr_matrix\n",
    "from sklearn.cluster import AgglomerativeClustering\n",
    "import warnings"
   ]
  },
  {
   "cell_type": "code",
   "execution_count": 2,
   "metadata": {},
   "outputs": [],
   "source": [
    "def preprocess(text: str) -> str:\n",
    "    return \"\".join([\"\".join([i.lower() for i in list(j) if i.isalpha()]+[\" \"])for j in text.split()])"
   ]
  },
  {
   "cell_type": "code",
   "execution_count": 3,
   "metadata": {},
   "outputs": [],
   "source": [
    "with open(\"lines.txt\",\"r\") as file:\n",
    "    lines = file.readlines()"
   ]
  },
  {
   "cell_type": "code",
   "execution_count": 4,
   "metadata": {},
   "outputs": [],
   "source": [
    "def stopwords(texts:list[list[string]]):\n",
    "    word_dict = dict()\n",
    "    for text in texts:\n",
    "        for word in text:\n",
    "            if word in word_dict:\n",
    "                word_dict[word] += 1\n",
    "            else:\n",
    "                word_dict[word] = 1\n",
    "    Q = queue.PriorityQueue()\n",
    "    for word in word_dict.keys():\n",
    "        Q.put((-word_dict[word],word))\n",
    "    n = len(texts)//100 #stopwords to u mnie 1% najczęściej powtarzających się słów\n",
    "    return {Q.get()[1] for i in range(n)}"
   ]
  },
  {
   "cell_type": "code",
   "execution_count": 49,
   "metadata": {},
   "outputs": [],
   "source": [
    "def texts_to_vec(docs: list[str],process:bool) -> list[list[int]]:\n",
    "    n = len(docs)\n",
    "    dicts = [dict() for i in range(n)]\n",
    "    prep = [preprocess(i).split() for i in docs]\n",
    "    if process:\n",
    "        swords = stopwords(prep)\n",
    "    for i in range(n):\n",
    "        for word in prep[i]:\n",
    "            if word in dicts[i]:\n",
    "                dicts[i][word] += 1\n",
    "            else:\n",
    "                dicts[i][word] = 1\n",
    "    common=set()\n",
    "    for i in range(n):\n",
    "        common = common.union(set(dicts[i].keys()))\n",
    "    vectors = [[] for i in range(n)]\n",
    "    for word in common:\n",
    "        if (process and word not in swords) or not process:\n",
    "            for i in range(n):\n",
    "                if word in dicts[i]:\n",
    "                    vectors[i].append(dicts[i][word])\n",
    "                else:\n",
    "                    vectors[i].append(0)\n",
    "    return np.array([np.array(v) for v in vectors])"
   ]
  },
  {
   "cell_type": "code",
   "execution_count": 37,
   "metadata": {},
   "outputs": [],
   "source": [
    "def cosine_matrix(texts: list[str],process:bool):\n",
    "    vecs = texts_to_vec(texts,process)\n",
    "    lens = np.nan_to_num(1/np.sqrt(np.sum(vecs**2,axis = 1)),nan=0.0,posinf=0.0,neginf=0.0)\n",
    "    vecs = (vecs.T * lens).T\n",
    "    n= len(texts)\n",
    "    matrix = np.zeros((n,n))\n",
    "    for i in range(n):\n",
    "        for j in range(i):\n",
    "            sim = 1-vecs[i]@vecs[j]\n",
    "            matrix[i,j] = sim\n",
    "            matrix[j,i] = sim\n",
    "    return matrix"
   ]
  },
  {
   "cell_type": "code",
   "execution_count": 7,
   "metadata": {},
   "outputs": [],
   "source": [
    "def LCS(str_a,str_b):\n",
    "    m,n = len(str_a)+1,len(str_b)+1\n",
    "    matrix = np.zeros((m,n))\n",
    "    for i in range(1,m):\n",
    "        for j in range(1,n):\n",
    "            if str_a[i-1] == str_b[j-1]:\n",
    "                matrix[i,j] = matrix[i-1,j-1]+1\n",
    "            else:\n",
    "                matrix[i,j] = max(matrix[i-1,j-1],matrix[i,j-1],matrix[i-1,j])\n",
    "    return matrix[-1,-1]"
   ]
  },
  {
   "cell_type": "code",
   "execution_count": 56,
   "metadata": {},
   "outputs": [],
   "source": [
    "def LCS_matrix(texts: list[str],process:bool):\n",
    "    n= len(texts)\n",
    "    matrix = np.ones((n,n))\n",
    "    prep = [preprocess(text).split() for text in texts]\n",
    "    dictionary = dict()\n",
    "    i = 0\n",
    "    for text in prep:\n",
    "        for word in text:\n",
    "            if not word in dictionary:\n",
    "                dictionary[word]=i\n",
    "                i+=1\n",
    "    if process:\n",
    "        swords = stopwords([p for p in prep])\n",
    "        prep = [[word for word in p  if word not in swords] for p in prep]\n",
    "    prep = [np.array([dictionary[word] for word in p],dtype=np.int32) for p in prep]\n",
    "    for i in range(n):\n",
    "        for j in range(i):\n",
    "            dist = -LCS(prep[i],prep[j])\n",
    "            matrix[i,j] = dist\n",
    "            matrix[j,i] = dist\n",
    "    return matrix"
   ]
  },
  {
   "cell_type": "code",
   "execution_count": 9,
   "metadata": {},
   "outputs": [],
   "source": [
    "def dice_matrix(texts: list[str],process:bool):\n",
    "    n= len(texts)\n",
    "    matrix = np.ones((n,n))\n",
    "    prep = [preprocess(text).split() for text in texts]\n",
    "    dictionary = dict()\n",
    "    i = 0\n",
    "    for text in prep:\n",
    "        for word in text:\n",
    "            if not word in dictionary:\n",
    "                dictionary[word]=i\n",
    "                i+=1\n",
    "    if process:\n",
    "        swords = stopwords([p for p in prep])\n",
    "        prep = [[word for word in p  if word not in swords] for p in prep]\n",
    "    prep = [[dictionary[word] for word in p] for p in prep]\n",
    "    for i in range(n):\n",
    "        p_a = set(prep[i])\n",
    "        for j in range(i):\n",
    "            p_b = set(prep[j])\n",
    "            dice = 2*len(p_a.intersection(p_b))/max(len(p_a)+len(p_b),1)\n",
    "            matrix[i,j] = dice\n",
    "            matrix[j,i] = dice\n",
    "    return matrix"
   ]
  },
  {
   "cell_type": "code",
   "execution_count": 15,
   "metadata": {},
   "outputs": [],
   "source": [
    "def DB(clusters):\n",
    "    #Indeks Daviesa -Bouldina\n",
    "    n = len(clusters)\n",
    "    centers = [np.sum(cluster,axis =0)/len(cluster) for cluster in clusters]\n",
    "    S_arr = [np.sqrt(np.sum((clusters[i]-centers[i])**2)/len(clusters[i])) for i in range(n)]\n",
    "    M_arr = [[np.sqrt(np.sum((centers[i]-centers[j])**2)) for i in range(n)]for j in range(n)]\n",
    "    D =0\n",
    "    for i in range(n):\n",
    "        best_R = 0\n",
    "        for j in range(n):\n",
    "            R = np.nan_to_num((S_arr[i]+S_arr[j])/M_arr[i][j],nan=0.0,posinf=0.0,neginf=0.0)\n",
    "            if i!=j and R > best_R:\n",
    "                best_R = R\n",
    "        D += best_R\n",
    "    return D/n"
   ]
  },
  {
   "cell_type": "code",
   "execution_count": 11,
   "metadata": {},
   "outputs": [],
   "source": [
    "def clusterize(data, dist_matrix):\n",
    "    ag = AgglomerativeClustering(n_clusters=13,affinity ='precomputed',linkage='single')\n",
    "    ag.fit(dist_matrix)\n",
    "    labels = ag.labels_\n",
    "    clusters = [[]for i in range(ag.n_clusters)]\n",
    "    for i,label in enumerate(labels):\n",
    "        clusters[label].append(data[i,:])\n",
    "    return clusters"
   ]
  },
  {
   "cell_type": "code",
   "execution_count": 61,
   "metadata": {},
   "outputs": [],
   "source": [
    "with warnings.catch_warnings():\n",
    "    #Pozbywam się ostrzeżeń wynikających z dzielenia przez 0\n",
    "    #takie dzielenia zastępuję odpowiednimi liczbami\n",
    "    warnings.simplefilter(\"ignore\")\n",
    "    metrics =[cosine_matrix,LCS_matrix,dice_matrix]\n",
    "    DB_results= [[],[]]\n",
    "    for i,m in enumerate(metrics):\n",
    "        for process in [True,False]:\n",
    "            vecs = texts_to_vec(lines,process)\n",
    "            dist_matrix = m(lines,process)\n",
    "            clusters = clusterize(vecs,dist_matrix)\n",
    "            db = DB(clusters)\n",
    "            DB_results[int(process)].append(db)"
   ]
  },
  {
   "cell_type": "code",
   "execution_count": 62,
   "metadata": {},
   "outputs": [
    {
     "data": {
      "text/plain": [
       "[[1.546138268884126, 1.6607684272802827, 1.0636894535019699],\n",
       " [3.861303802757975, 3.861303802757975, 0.9957502556334403]]"
      ]
     },
     "execution_count": 62,
     "metadata": {},
     "output_type": "execute_result"
    }
   ],
   "source": [
    "DB_results"
   ]
  },
  {
   "cell_type": "code",
   "execution_count": 69,
   "metadata": {},
   "outputs": [
    {
     "data": {
      "image/png": "[encoded data removed]",
      "text/plain": [
       "<Figure size 432x288 with 1 Axes>"
      ]
     },
     "metadata": {
      "needs_background": "light"
     },
     "output_type": "display_data"
    }
   ],
   "source": [
    "plt.title(\"without preprocessing\")\n",
    "plt.plot([\"cosine similarity\",\"LCS-based similarity\",\"Dice-Sorensen similarity\"],DB_results[0])\n",
    "plt.ylabel(\"Davies-Bouldin Index\")\n",
    "plt.xlabel(\"used metric\")\n",
    "plt.show()"
   ]
  },
  {
   "cell_type": "code",
   "execution_count": 70,
   "metadata": {},
   "outputs": [
    {
     "data": {
      "image/png": "[encoded data removed]",
      "text/plain": [
       "<Figure size 432x288 with 1 Axes>"
      ]
     },
     "metadata": {
      "needs_background": "light"
     },
     "output_type": "display_data"
    }
   ],
   "source": [
    "plt.title(\"with preprocessing\")\n",
    "plt.plot([\"cosine similarity\",\"LCS-based similarity\",\"Dice-Sorensen similarity\"],DB_results[1])\n",
    "plt.ylabel(\"Davies-Bouldin Index\")\n",
    "plt.xlabel(\"used metric\")\n",
    "plt.show()"
   ]
  },
  {
   "cell_type": "markdown",
   "metadata": {},
   "source": [
    "# Wnioski\n",
    "Okazuje się że najlepsze wyniki klasteryzacji daje metryka oparta na podobieństwie Dice'a-Sørensena\n",
    "Metryka ta dawała nieco lepsze wyniki, gdy przeprowadziełem dodatkowy preprocessing tekstów. W przypadku pozostałych metryk, wyniki okazały się gorsze po preprocessingu.\n",
    "\n",
    "Innym sposobem na podniesienie jakości klasteryzacji mogłoby być obliczenie Inverse word frequency i pomnożenie wektorów słów (kolumn macierzy tekstów) przez odpowiadające im logarytmy odwróconej częstości wystąpień danych słów."
   ]
  },
  {
   "cell_type": "code",
   "execution_count": null,
   "metadata": {},
   "outputs": [],
   "source": []
  }
 ],
 "metadata": {
  "kernelspec": {
   "display_name": "Python 3 (ipykernel)",
   "language": "python",
   "name": "python3"
  },
  "language_info": {
   "codemirror_mode": {
    "name": "ipython",
    "version": 3
   },
   "file_extension": ".py",
   "mimetype": "text/x-python",
   "name": "python",
   "nbconvert_exporter": "python",
   "pygments_lexer": "ipython3",
   "version": "3.9.12"
  }
 },
 "nbformat": 4,
 "nbformat_minor": 2
}
