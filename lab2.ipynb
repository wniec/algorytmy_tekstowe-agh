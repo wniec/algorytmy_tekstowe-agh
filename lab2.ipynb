{
 "cells": [
  {
   "cell_type": "code",
   "execution_count": 31,
   "id": "ac06ff0e",
   "metadata": {},
   "outputs": [],
   "source": [
    "import queue\n",
    "import copy\n",
    "import random\n",
    "import os\n",
    "import datetime\n",
    "import matplotlib.pyplot as plt\n",
    "%matplotlib inline"
   ]
  },
  {
   "cell_type": "code",
   "execution_count": 2,
   "id": "250ed463",
   "metadata": {},
   "outputs": [],
   "source": [
    "class Node:\n",
    "    def __init__(self,value,level=None):\n",
    "        self.parent = None\n",
    "        self.right = None\n",
    "        self.left = None\n",
    "        self.val = value\n",
    "        self.level = level\n",
    "    #__lt__() odpowiada za porównywanie dwóch nodeów\n",
    "    #potrzebne w kolejce priorytetowej\n",
    "    def __lt__(self, other):\n",
    "        return self.val < other.val\n",
    "    def next(self):\n",
    "        if self.right:\n",
    "            succ =self.right\n",
    "            while succ.left:\n",
    "                succ = succ.left\n",
    "            return succ\n",
    "        if self.parent.left == self:\n",
    "            return self.parent\n",
    "        return None\n",
    "    def precedes(self,other):\n",
    "        head1 = self\n",
    "        head2 = other\n",
    "        if head1 is head2:\n",
    "            return False\n",
    "        while head1 and head2:\n",
    "            if head1.parent == head2.parent:\n",
    "                if head1 == head1.parent.left:\n",
    "                    return True\n",
    "                return False\n",
    "            head1=head1.parent\n",
    "            head2=head2.parent"
   ]
  },
  {
   "cell_type": "code",
   "execution_count": 3,
   "id": "2130e160",
   "metadata": {},
   "outputs": [],
   "source": [
    "def huffman_code(text):\n",
    "    letters = dict()\n",
    "    for letter in text:\n",
    "        if letter in letters:\n",
    "            letters[letter]+=1\n",
    "        else:\n",
    "            letters[letter]=1\n",
    "    Q = queue.PriorityQueue()\n",
    "    for letter in letters.keys():\n",
    "        Q.put((letters[letter],Node(letter)))\n",
    "    while not Q.empty():\n",
    "        node1 = Q.get()\n",
    "        if Q.empty():\n",
    "            tree = node1[1]\n",
    "            break\n",
    "        node2 = Q.get()\n",
    "        new = Node(node1[1].val+node2[1].val)\n",
    "        new.right = node1[1]\n",
    "        new.left = node2[1]\n",
    "        Q.put((node1[0]+node2[0],new))\n",
    "    nodes = queue.SimpleQueue()\n",
    "    nodes.put((tree,''))\n",
    "    while not nodes.empty():\n",
    "        node = nodes.get()\n",
    "        if len(node[0].val) ==1:\n",
    "            letters[node[0].val] = node[1]\n",
    "        if node[0].left!=None:\n",
    "            nodes.put((node[0].left,node[1]+'0'))\n",
    "        if node[0].right!=None:\n",
    "            nodes.put((node[0].right,node[1]+'1'))\n",
    "    coded = ''.join([letters[t] for t in text])\n",
    "    return coded,letters\n",
    "            "
   ]
  },
  {
   "cell_type": "code",
   "execution_count": 4,
   "id": "f3e6b43f",
   "metadata": {},
   "outputs": [],
   "source": [
    "code,a = huffman_code(\"Litwo Ojczyzno Moja! Ty jesteś jak zdrowie!\")"
   ]
  },
  {
   "cell_type": "code",
   "execution_count": 5,
   "id": "b5b9e5ef",
   "metadata": {},
   "outputs": [
    {
     "data": {
      "text/plain": [
       "{'L': '001011',\n",
       " 'i': '00001',\n",
       " 't': '1010',\n",
       " 'w': '1001',\n",
       " 'o': '110',\n",
       " ' ': '011',\n",
       " 'O': '001001',\n",
       " 'j': '111',\n",
       " 'c': '000101',\n",
       " 'z': '0100',\n",
       " 'y': '1000',\n",
       " 'n': '000000',\n",
       " 'M': '001010',\n",
       " 'a': '00011',\n",
       " '!': '00110',\n",
       " 'T': '001000',\n",
       " 'e': '0101',\n",
       " 's': '10110',\n",
       " 'ś': '00111',\n",
       " 'k': '000001',\n",
       " 'd': '000100',\n",
       " 'r': '10111'}"
      ]
     },
     "execution_count": 5,
     "metadata": {},
     "output_type": "execute_result"
    }
   ],
   "source": [
    "a"
   ]
  },
  {
   "cell_type": "code",
   "execution_count": 6,
   "id": "d8a3ce0a",
   "metadata": {},
   "outputs": [
    {
     "data": {
      "text/plain": [
       "'001011000011010100111001100100111100010101001000010000000011001100101011011100011001100110010001000011111010110110101001010011101111100011000001011010000010010111110100100001010100110'"
      ]
     },
     "execution_count": 6,
     "metadata": {},
     "output_type": "execute_result"
    }
   ],
   "source": [
    "code"
   ]
  },
  {
   "cell_type": "code",
   "execution_count": 7,
   "id": "aa73234c",
   "metadata": {},
   "outputs": [],
   "source": [
    "def add_levels(node,a,levels,stop):\n",
    "    Q = queue.SimpleQueue()\n",
    "    levels[node.level].remove(node)\n",
    "    node.level+=a\n",
    "    levels[node.level].add(node)\n",
    "    Q.put(node)\n",
    "    while not Q.empty():\n",
    "        x = Q.get()\n",
    "        l,r = x.left,x.right\n",
    "        if l and l is not stop:\n",
    "            levels[l.level].remove(l)\n",
    "            l.level+=a\n",
    "            levels[l.level].add(l)\n",
    "            Q.put(l)\n",
    "        if r and r is not stop:\n",
    "            levels[r.level].remove(r)\n",
    "            r.level+=a\n",
    "            levels[r.level].add(r)\n",
    "            Q.put(r)\n",
    "        "
   ]
  },
  {
   "cell_type": "code",
   "execution_count": 8,
   "id": "f61d842e",
   "metadata": {},
   "outputs": [],
   "source": [
    "def change_nodes(nodeA,nodeB,levels):\n",
    "    if nodeA.parent == nodeB.parent:\n",
    "        parent = nodeA.parent\n",
    "        parent.right,parent.left = parent.left,parent.right\n",
    "        return\n",
    "    parentA = nodeA.parent\n",
    "    if parentA.left == nodeA:\n",
    "        parentA.left = nodeB\n",
    "    else:\n",
    "        parentA.right = nodeB\n",
    "    nodeA.parent = nodeB.parent\n",
    "    if nodeB.parent.left == nodeB:\n",
    "        nodeB.parent.left = nodeA\n",
    "    else:\n",
    "        nodeB.parent.right = nodeA\n",
    "    nodeB.parent = parentA\n",
    "    diff = nodeB.level - nodeA.level\n",
    "    if diff != 0:\n",
    "        add_levels(nodeA,diff,levels,nodeB)\n",
    "        add_levels(nodeB,-diff,levels,None)"
   ]
  },
  {
   "cell_type": "code",
   "execution_count": 9,
   "id": "4387e97d",
   "metadata": {},
   "outputs": [],
   "source": [
    "def add_node(tree,node,levels):\n",
    "    parent = Node(0,tree.level)\n",
    "    levels[tree.level].remove(tree)\n",
    "    node.parent = parent\n",
    "    parent.right = node\n",
    "    tree_parent = tree.parent\n",
    "    tree.parent = parent\n",
    "    parent.left = tree\n",
    "    parent.parent = tree_parent\n",
    "    if tree_parent != None:\n",
    "        if tree_parent.left == tree:\n",
    "            tree_parent.left = parent\n",
    "        else:\n",
    "            tree_parent.right = parent\n",
    "    tree.level += 1\n",
    "    node.level = tree.level\n",
    "    if parent.level in levels:\n",
    "        levels[parent.level].add(parent)\n",
    "    else:\n",
    "        levels[parent.level] = {parent}\n",
    "    if tree.level in levels:\n",
    "        levels[tree.level].add(tree)\n",
    "    else:\n",
    "        levels[tree.level] = {tree}\n",
    "    levels[node.level].add(node)"
   ]
  },
  {
   "cell_type": "code",
   "execution_count": 10,
   "id": "85d165db",
   "metadata": {},
   "outputs": [],
   "source": [
    "def check_conflicts(node,tree,levels,repeats,nodes):\n",
    "    head = node\n",
    "    while head:\n",
    "        if head.val in repeats:\n",
    "            upper = list(repeats[head.val])\n",
    "            for u in upper:\n",
    "                uNode = nodes[u]\n",
    "                if uNode.level < head.level and head.parent != uNode:\n",
    "                    change_nodes(uNode,head,levels)\n",
    "        top = head\n",
    "        while  top.parent:\n",
    "            top = top.parent\n",
    "        if head:\n",
    "            block = list(levels[head.level])\n",
    "            for b in block:\n",
    "                if head.precedes(b) and b.val == head.val:\n",
    "                    change_nodes(b,head,levels)\n",
    "        head.val+=1\n",
    "        head = head.parent\n",
    "            "
   ]
  },
  {
   "cell_type": "code",
   "execution_count": 11,
   "id": "1a032e8a",
   "metadata": {},
   "outputs": [],
   "source": [
    "def dynamic_huffman_code(text):\n",
    "    tree = Node(0,0)\n",
    "    letters= {'':0} #letter -> how often does it repeat\n",
    "    repeats = {0:['']}\n",
    "    letters_list = [''] #index -> letter\n",
    "    nodes = {'':tree} #letter -> it's node\n",
    "    levels = {0:{tree}}\n",
    "    for letter in text:\n",
    "        letter = str(letter)\n",
    "        if letter in letters:\n",
    "            check_conflicts(nodes[letter],tree,levels,repeats,nodes)\n",
    "            repeats[letters[letter]].remove(letter)\n",
    "            letters[letter]+=1\n",
    "            if letters[letter] in repeats:\n",
    "                repeats[letters[letter]].add(letter)\n",
    "            else:\n",
    "                repeats[letters[letter]]={letter}\n",
    "        else:\n",
    "            letters[letter] = 1\n",
    "            letters_list.append(letter)\n",
    "            node = Node(0,tree.level+1)\n",
    "            add_node(tree,node,levels)\n",
    "            nodes[letter] = node\n",
    "            check_conflicts(node,tree,levels,repeats,nodes)\n",
    "            if not 1 in repeats:\n",
    "                repeats[1]=[]\n",
    "            repeats[1].append(letter)\n",
    "        head = tree\n",
    "        while  head.parent:\n",
    "            head = head.parent\n",
    "    return tree,nodes"
   ]
  },
  {
   "cell_type": "code",
   "execution_count": 13,
   "id": "102b7fad",
   "metadata": {
    "scrolled": true
   },
   "outputs": [],
   "source": [
    "text = \"Litwo Ojczyzno Moja!\\nTy jesteś jak zdrowie!\"\n",
    "tree,tree_dict = dynamic_huffman_code(text)"
   ]
  },
  {
   "cell_type": "code",
   "execution_count": 79,
   "id": "ff2f05b4",
   "metadata": {},
   "outputs": [],
   "source": [
    "def encode_dynamic(tree,node_dict,text):\n",
    "    head = tree\n",
    "    reverse_dict =dict()\n",
    "    for k in node_dict.keys():\n",
    "        reverse_dict[node_dict[k]]=k\n",
    "    while head.parent:\n",
    "        head = head.parent\n",
    "    tree_parent = tree.parent\n",
    "    if not tree_parent.parent:\n",
    "        head = tree_parent.right\n",
    "    else:\n",
    "        super_parent = tree_parent.parent\n",
    "        end = tree_parent.right\n",
    "        end.parent = super_parent\n",
    "        super_parent.left = end\n",
    "    nodes = queue.SimpleQueue()\n",
    "    nodes.put((head,''))\n",
    "    letters = dict()\n",
    "    while not nodes.empty():\n",
    "        node = nodes.get()\n",
    "        if node[0] in reverse_dict:\n",
    "            letters[reverse_dict[node[0]]] = str(node[1])\n",
    "        if node[0].left:\n",
    "            nodes.put((node[0].left,node[1]+'0'))\n",
    "        if node[0].right:\n",
    "            nodes.put((node[0].right,node[1]+'1'))\n",
    "    coded = ''.join([letters[t] for t in text])\n",
    "    return coded, letters"
   ]
  },
  {
   "cell_type": "code",
   "execution_count": 15,
   "id": "ac5fdc0f",
   "metadata": {},
   "outputs": [],
   "source": [
    "code,letters = encode_dynamic(tree,tree_dict,text)"
   ]
  },
  {
   "cell_type": "code",
   "execution_count": 16,
   "id": "80805a6d",
   "metadata": {},
   "outputs": [
    {
     "data": {
      "text/plain": [
       "'111110110100110110111110101000000010100011000111110001010111010110000111000100011000110101011011110100110010100101101001000011010010001111111101110011110111110011101101111010100110001'"
      ]
     },
     "execution_count": 16,
     "metadata": {},
     "output_type": "execute_result"
    }
   ],
   "source": [
    "code"
   ]
  },
  {
   "cell_type": "code",
   "execution_count": 17,
   "id": "6bf1830d",
   "metadata": {},
   "outputs": [],
   "source": [
    "def write(code,filename):\n",
    "    n_bytes = len(code)//8#pełne bajty\n",
    "    rest = len(code)%8\n",
    "    int_array = []\n",
    "    for i in range(n_bytes):\n",
    "        int_array.append(int(code[i*8:i*8+8],2))\n",
    "    last_byte = rest#w ostatnim bajcie zapisuję jak dużo należy odczytać z przedostatniego bajtu\n",
    "    if rest !=0:\n",
    "        rest_byte = int(code[len(code)-rest:],2)\n",
    "        int_array.append(rest_byte)\n",
    "    int_array.append(last_byte)\n",
    "    with open (filename,'wb') as file:\n",
    "        file.write(bytes(int_array))"
   ]
  },
  {
   "cell_type": "code",
   "execution_count": 18,
   "id": "0eaf9ddb",
   "metadata": {},
   "outputs": [],
   "source": [
    "def to_binary(integer):\n",
    "    bin_val=bin(integer)[2:]\n",
    "    zeros = '0'*(8-len(bin_val))\n",
    "    return zeros + bin_val"
   ]
  },
  {
   "cell_type": "code",
   "execution_count": 19,
   "id": "1eb16bae",
   "metadata": {},
   "outputs": [],
   "source": [
    "def read(filename):\n",
    "    with open (filename,'rb') as file:\n",
    "        byte_content = file.read()\n",
    "    n= len(byte_content)-1\n",
    "    rest_len = byte_content[-1]\n",
    "    rest =\"\"\n",
    "    if rest_len != 0:\n",
    "        n-=1\n",
    "        rest  = to_binary(byte_content[-2])[8-rest_len:]\n",
    "    bin_arr = []\n",
    "    int_arr = []\n",
    "    for i in range(n):\n",
    "        bin_arr.append(to_binary(byte_content[i]))\n",
    "    bin_arr.append(rest)\n",
    "    return ''.join(bin_arr)"
   ]
  },
  {
   "cell_type": "code",
   "execution_count": 20,
   "id": "2516ce8b",
   "metadata": {},
   "outputs": [],
   "source": [
    "write(code, \"bytefile.txt\")"
   ]
  },
  {
   "cell_type": "code",
   "execution_count": 21,
   "id": "f5ec5dd1",
   "metadata": {},
   "outputs": [
    {
     "data": {
      "text/plain": [
       "'111110110100110110111110101000000010100011000111110001010111010110000111000100011000110101011011110100110010100101101001000011010010001111111101110011110111110011101101111010100110001'"
      ]
     },
     "execution_count": 21,
     "metadata": {},
     "output_type": "execute_result"
    }
   ],
   "source": [
    "read(\"bytefile.txt\")"
   ]
  },
  {
   "cell_type": "code",
   "execution_count": 22,
   "id": "b796ece4",
   "metadata": {},
   "outputs": [],
   "source": [
    "def decode(code, letters):\n",
    "    i = 0\n",
    "    n = len(code)\n",
    "    codes =dict()\n",
    "    for c in letters.keys():\n",
    "        codes[letters[c]]=c\n",
    "    current =\"\"\n",
    "    decoded =\"\"\n",
    "    while i < n:\n",
    "        current += code[i]\n",
    "        if current in codes:\n",
    "            decoded += codes[current]\n",
    "            current = \"\"\n",
    "        i += 1\n",
    "    return decoded"
   ]
  },
  {
   "cell_type": "code",
   "execution_count": 23,
   "id": "63f6b45c",
   "metadata": {},
   "outputs": [
    {
     "data": {
      "text/plain": [
       "'Litwo Ojczyzno Moja! Ty jesteś jak zdrowie!'"
      ]
     },
     "execution_count": 23,
     "metadata": {},
     "output_type": "execute_result"
    }
   ],
   "source": [
    "decode(code,letters)"
   ]
  },
  {
   "cell_type": "code",
   "execution_count": 24,
   "id": "111873d9",
   "metadata": {},
   "outputs": [],
   "source": [
    "files = [\"1kB.txt\",\"10kB.txt\",\"100kB.txt\",\"1MB.txt\"]\n",
    "sizes = [10**3,10**4,10**5,10**6]"
   ]
  },
  {
   "cell_type": "code",
   "execution_count": 25,
   "id": "7cd06c66",
   "metadata": {},
   "outputs": [],
   "source": [
    "def randomize_files():\n",
    "    for i in range(4):\n",
    "        filepath = \"Random/\"+files[i]\n",
    "        size = sizes[i]*2//3\n",
    "        with open(filepath,'w',encoding='utf-8') as file:\n",
    "            for i in range(size):\n",
    "                letter = chr(random.randint(0,255))\n",
    "                file.write(letter)\n",
    "        "
   ]
  },
  {
   "cell_type": "code",
   "execution_count": 26,
   "id": "aee48fe3",
   "metadata": {},
   "outputs": [],
   "source": [
    "randomize_files()"
   ]
  },
  {
   "cell_type": "code",
   "execution_count": 27,
   "id": "7423017c",
   "metadata": {},
   "outputs": [],
   "source": [
    "folders = [\"Gutemberg\",\"Linux_kernel\",\"Random\"]"
   ]
  },
  {
   "cell_type": "code",
   "execution_count": 80,
   "id": "a2c33cfc",
   "metadata": {},
   "outputs": [
    {
     "name": "stdout",
     "output_type": "stream",
     "text": [
      "Gutemberg/1kB.txt\n",
      "Gutemberg/10kB.txt\n",
      "Gutemberg/100kB.txt\n",
      "Gutemberg/1MB.txt\n",
      "Linux_kernel/1kB.txt\n",
      "Linux_kernel/10kB.txt\n",
      "Linux_kernel/100kB.txt\n",
      "Linux_kernel/1MB.txt\n",
      "Random/1kB.txt\n",
      "Random/10kB.txt\n",
      "Random/100kB.txt\n",
      "Random/1MB.txt\n"
     ]
    }
   ],
   "source": [
    "#Testowanie algorytmów, to może potrwać dłuższą chwilę\n",
    "sizes = [[],[],[]]\n",
    "\n",
    "D_compression = [[],[],[]]\n",
    "S_compression = [[],[],[]]\n",
    "\n",
    "D_compression_times = [[],[],[]]\n",
    "S_compression_times = [[],[],[]]\n",
    "\n",
    "D_decompression_times = [[],[],[]]\n",
    "S_decompression_times = [[],[],[]]\n",
    "\n",
    "for i,folder in enumerate(folders):\n",
    "    for file in files:\n",
    "        filepath = folder +\"/\"+file\n",
    "        print(filepath)\n",
    "        input_size = os.stat(filepath).st_size\n",
    "        sizes[i].append(input_size)\n",
    "\n",
    "        output_S = folder +\"/\"+file+\"compressed_static\"\n",
    "        output_D = folder +\"/\"+file+\"compressed_dynamic\"\n",
    "\n",
    "        with open(filepath,'r',encoding='utf-8') as input_file:\n",
    "            content = input_file.read()\n",
    "\n",
    "        start = datetime.datetime.now()\n",
    "\n",
    "        dynamicT, dynamicN = dynamic_huffman_code(content)\n",
    "        dynamic, dynamic_dict = encode_dynamic(dynamicT, dynamicN,content)\n",
    "\n",
    "        D_end = datetime.datetime.now()\n",
    "\n",
    "        static, static_dict = huffman_code(content)\n",
    "\n",
    "        S_end = datetime.datetime.now()\n",
    "\n",
    "        D_compression_times[i].append((D_end-start).microseconds)\n",
    "        S_compression_times[i].append((S_end-D_end).microseconds)\n",
    "\n",
    "        write(static,output_S)\n",
    "        write(dynamic,output_D)\n",
    "\n",
    "        S_size = os.stat(output_S).st_size\n",
    "        D_size = os.stat(output_D).st_size\n",
    "\n",
    "        D_compression[i].append((input_size-D_size)/input_size)\n",
    "        S_compression[i].append((input_size-D_size)/input_size)\n",
    "        \n",
    "        start = datetime.datetime.now()\n",
    "        \n",
    "        decode(dynamic,dynamic_dict)\n",
    "        \n",
    "        D_end = datetime.datetime.now()\n",
    "        \n",
    "        decode(static,static_dict)\n",
    "        \n",
    "        S_end = datetime.datetime.now()\n",
    "        \n",
    "        D_decompression_times[i].append((D_end-start).microseconds)\n",
    "        S_decompression_times[i].append((S_end-D_end).microseconds)"
   ]
  },
  {
   "cell_type": "code",
   "execution_count": 81,
   "id": "5d45abdd",
   "metadata": {},
   "outputs": [
    {
     "data": {
      "image/png": "[encoded data removed]",
      "text/plain": [
       "<Figure size 432x288 with 3 Axes>"
      ]
     },
     "metadata": {
      "needs_background": "light"
     },
     "output_type": "display_data"
    }
   ],
   "source": [
    "fig,axes = plt.subplots(1,3)\n",
    "fig.suptitle('Compression ratios', fontsize=16)\n",
    "for i in range(3):\n",
    "    lineD, = axes[i].plot(sizes[i],D_compression[i], label = 'dynamic')\n",
    "    lineS, = axes[i].plot(sizes[i],S_compression[i], label = 'static')\n",
    "    axes[i].set_title(folders[i])\n",
    "    axes[i].set_ylim(0,1)\n",
    "    axes[i].legend()"
   ]
  },
  {
   "cell_type": "code",
   "execution_count": 82,
   "id": "5f1e955f",
   "metadata": {},
   "outputs": [
    {
     "data": {
      "image/png": "[encoded data removed]",
      "text/plain": [
       "<Figure size 432x288 with 3 Axes>"
      ]
     },
     "metadata": {
      "needs_background": "light"
     },
     "output_type": "display_data"
    }
   ],
   "source": [
    "fig,axes = plt.subplots(1,3)\n",
    "fig.suptitle('Compression time [μs]', fontsize=16)\n",
    "for i in range(3):\n",
    "    lineD, = axes[i].plot(sizes[i],D_compression_times[i], label = 'dynamic')\n",
    "    lineS, = axes[i].plot(sizes[i],S_compression_times[i], label = 'static')\n",
    "    axes[i].set_title(folders[i])\n",
    "    axes[i].legend()"
   ]
  },
  {
   "cell_type": "code",
   "execution_count": 83,
   "id": "568e2e5e",
   "metadata": {},
   "outputs": [
    {
     "data": {
      "image/png": "[encoded data removed]",
      "text/plain": [
       "<Figure size 432x288 with 3 Axes>"
      ]
     },
     "metadata": {
      "needs_background": "light"
     },
     "output_type": "display_data"
    }
   ],
   "source": [
    "fig,axes = plt.subplots(1,3)\n",
    "fig.suptitle('Decompression time [μs]', fontsize=16)\n",
    "for i in range(3):\n",
    "    lineD, = axes[i].plot(sizes[i],D_decompression_times[i], label = 'dynamic')\n",
    "    lineS, = axes[i].plot(sizes[i],S_decompression_times[i], label = 'static')\n",
    "    axes[i].set_title(folders[i])\n",
    "    axes[i].legend()"
   ]
  },
  {
   "cell_type": "markdown",
   "id": "1a211eb4",
   "metadata": {},
   "source": [
    "# Opis\n",
    "Algorytm dynamiczny w mojej implementacji w celu skutecznej i szybkiej zamiany i wyszukiwania węzłów na tym samym poziomie lub węzłów o takich samych wagach korzysta ze słowników przechowujących jako klucze odpowiednio numer poziomu/liczbę powtórzeń a jako wartości zbiory węzłów/listy liter. Co do rodzaju pliku na którym odbywa się zapisanie skompresowanych danych, to dopełniam ostatni bajt zerami z przodu (jeżeli jego długość jest niezerowa)  i dodaję jeszcze jeden bajt określający ile bajtów ma mieć odczytana część \"resztowego\" bajtu. Plik ten jest w formacie .txtcompressed_static,lub .txtcompressed_dynamic, ale dane do niego zapisywane nie są tekstem, a ciągiem bitów zamienionym na int, a potem na bajty przy pomocy funkcji bytes()."
   ]
  },
  {
   "cell_type": "markdown",
   "id": "57d89587",
   "metadata": {},
   "source": [
    "# Wnioski\n",
    "W większości wypadków współczynniki kompresji obu algorytmów były bardzo podobne. Stalo się tak min. dlatego, że w algorytmie adaptacyjnym, pozbywałem się pustego węzła skracając drzewo. Niestety jeśli chodzi o czas działania, to algorytm dynamiczny okazał się znacznie wolniejszy od zwykłego (plik losowy o rozmiarze 1MB okazał się wyjątkiem). Między czasami dekompresji algorytmów różnice były niewielkie. Nieco wolniejszy okazał się algorytm dynamiczny (tu z kolei wyjątkiem są pliki z jądra linuxa)."
   ]
  },
  {
   "cell_type": "code",
   "execution_count": null,
   "id": "cfdd7495",
   "metadata": {},
   "outputs": [],
   "source": []
  }
 ],
 "metadata": {
  "kernelspec": {
   "display_name": "Python 3 (ipykernel)",
   "language": "python",
   "name": "python3"
  },
  "language_info": {
   "codemirror_mode": {
    "name": "ipython",
    "version": 3
   },
   "file_extension": ".py",
   "mimetype": "text/x-python",
   "name": "python",
   "nbconvert_exporter": "python",
   "pygments_lexer": "ipython3",
   "version": "3.9.12"
  }
 },
 "nbformat": 4,
 "nbformat_minor": 5
}
